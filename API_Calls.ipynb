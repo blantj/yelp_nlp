{
 "cells": [
  {
   "cell_type": "markdown",
   "metadata": {},
   "source": [
    "Import libraries"
   ]
  },
  {
   "cell_type": "code",
   "execution_count": 195,
   "metadata": {},
   "outputs": [],
   "source": [
    "import requests\n",
    "import json\n",
    "import pandas as pd"
   ]
  },
  {
   "cell_type": "markdown",
   "metadata": {},
   "source": [
    "Request gym and barber business names from Yelp Fusion API and save to businesses list"
   ]
  },
  {
   "cell_type": "code",
   "execution_count": 122,
   "metadata": {},
   "outputs": [],
   "source": [
    "categories = ['gyms', 'barbers']\n",
    "businesses = []\n",
    "for category in categories:\n",
    "    offset = 0\n",
    "    while offset < 500:\n",
    "        url = 'https://api.yelp.com/v3/businesses/search'\n",
    "        params = {'categories': category, 'limit':50, 'offset':offset, 'location': 'New York City', 'radius': 40000}\n",
    "        api_key = '8E-l2ZKylxFuWLxaBx0ApW8cR9QM4JfhHRFR6wjN4-j6cfud4b0GQzQVn-Cs2ZL1bmccud-1ZfdgXlK1CH0S2JVpQ3bkDzzqIxJbScuXCfj_7vJ5DmtbxJ54dKaPXnYx'\n",
    "        headers = {'Authorization': 'Bearer {}'.format(api_key)}\n",
    "        request = requests.get(url, params=params, headers=headers)\n",
    "        doc = json.loads(request.text)\n",
    "        for num in range(0,50):\n",
    "            businesses.append([category, doc['businesses'][num]['id'], doc['businesses'][num]['name']])\n",
    "        offset += 50"
   ]
  },
  {
   "cell_type": "markdown",
   "metadata": {},
   "source": [
    "Create list of urls for Yelp Fusion API reviews request"
   ]
  },
  {
   "cell_type": "code",
   "execution_count": 174,
   "metadata": {},
   "outputs": [],
   "source": [
    "business_urls = []\n",
    "for business in businesses:\n",
    "    business_urls.append([business[0], f'https://api.yelp.com/v3/businesses/{business[1]}/reviews'])\n",
    "reviews = []"
   ]
  },
  {
   "cell_type": "markdown",
   "metadata": {},
   "source": [
    "Request business reviews from Yelp Fusion API and save to reviews list"
   ]
  },
  {
   "cell_type": "code",
   "execution_count": 190,
   "metadata": {},
   "outputs": [],
   "source": [
    "count = 559\n",
    "for business_url in business_urls[count:]:\n",
    "    business = business_url[0]\n",
    "    url = business_url[1]\n",
    "    api_key = '8E-l2ZKylxFuWLxaBx0ApW8cR9QM4JfhHRFR6wjN4-j6cfud4b0GQzQVn-Cs2ZL1bmccud-1ZfdgXlK1CH0S2JVpQ3bkDzzqIxJbScuXCfj_7vJ5DmtbxJ54dKaPXnYx'\n",
    "    headers = {'Authorization': 'Bearer {}'.format(api_key)}\n",
    "    request = requests.get(url, headers=headers)\n",
    "    doc = json.loads(request.text)\n",
    "    for review in doc['reviews']:\n",
    "        reviews.append([business, review['text']])\n",
    "    count += 1"
   ]
  },
  {
   "cell_type": "markdown",
   "metadata": {},
   "source": [
    "Create df from Yelp reviews list"
   ]
  },
  {
   "cell_type": "code",
   "execution_count": 196,
   "metadata": {},
   "outputs": [
    {
     "data": {
      "text/html": [
       "<div>\n",
       "<style scoped>\n",
       "    .dataframe tbody tr th:only-of-type {\n",
       "        vertical-align: middle;\n",
       "    }\n",
       "\n",
       "    .dataframe tbody tr th {\n",
       "        vertical-align: top;\n",
       "    }\n",
       "\n",
       "    .dataframe thead th {\n",
       "        text-align: right;\n",
       "    }\n",
       "</style>\n",
       "<table border=\"1\" class=\"dataframe\">\n",
       "  <thead>\n",
       "    <tr style=\"text-align: right;\">\n",
       "      <th></th>\n",
       "      <th>Category</th>\n",
       "      <th>Review</th>\n",
       "    </tr>\n",
       "  </thead>\n",
       "  <tbody>\n",
       "    <tr>\n",
       "      <th>0</th>\n",
       "      <td>gyms</td>\n",
       "      <td>I come to this location all the time and love ...</td>\n",
       "    </tr>\n",
       "    <tr>\n",
       "      <th>1</th>\n",
       "      <td>gyms</td>\n",
       "      <td>This place is definitely not meant for kids. I...</td>\n",
       "    </tr>\n",
       "    <tr>\n",
       "      <th>2</th>\n",
       "      <td>gyms</td>\n",
       "      <td>BKB Gowanus might share the same name as they'...</td>\n",
       "    </tr>\n",
       "    <tr>\n",
       "      <th>3</th>\n",
       "      <td>gyms</td>\n",
       "      <td>Have been coming here for about 6 months since...</td>\n",
       "    </tr>\n",
       "    <tr>\n",
       "      <th>4</th>\n",
       "      <td>gyms</td>\n",
       "      <td>Rowing itself is a great workout but I did not...</td>\n",
       "    </tr>\n",
       "  </tbody>\n",
       "</table>\n",
       "</div>"
      ],
      "text/plain": [
       "  Category                                             Review\n",
       "0     gyms  I come to this location all the time and love ...\n",
       "1     gyms  This place is definitely not meant for kids. I...\n",
       "2     gyms  BKB Gowanus might share the same name as they'...\n",
       "3     gyms  Have been coming here for about 6 months since...\n",
       "4     gyms  Rowing itself is a great workout but I did not..."
      ]
     },
     "execution_count": 196,
     "metadata": {},
     "output_type": "execute_result"
    }
   ],
   "source": [
    "df = pd.DataFrame(reviews, columns= ['Category', 'Review'])\n",
    "df.head()"
   ]
  },
  {
   "cell_type": "markdown",
   "metadata": {},
   "source": [
    "Save yelp reviews df to csv file"
   ]
  },
  {
   "cell_type": "code",
   "execution_count": 198,
   "metadata": {},
   "outputs": [],
   "source": [
    "df.to_csv('yelp_reviews.csv', index=False)"
   ]
  },
  {
   "cell_type": "code",
   "execution_count": null,
   "metadata": {},
   "outputs": [],
   "source": []
  }
 ],
 "metadata": {
  "kernelspec": {
   "display_name": "Python 3",
   "language": "python",
   "name": "python3"
  },
  "language_info": {
   "codemirror_mode": {
    "name": "ipython",
    "version": 3
   },
   "file_extension": ".py",
   "mimetype": "text/x-python",
   "name": "python",
   "nbconvert_exporter": "python",
   "pygments_lexer": "ipython3",
   "version": "3.7.6"
  }
 },
 "nbformat": 4,
 "nbformat_minor": 4
}
